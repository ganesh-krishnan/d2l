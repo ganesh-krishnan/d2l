{
 "cells": [
  {
   "cell_type": "code",
   "execution_count": 9,
   "metadata": {},
   "outputs": [],
   "source": [
    "from mxnet import np, npx\n",
    "from mxnet import autograd\n",
    "from mxnet.gluon import Trainer\n",
    "from mxnet.gluon import nn\n",
    "from mxnet.gluon.loss import L2Loss, HuberLoss\n",
    "from mxnet.gluon.data import ArrayDataset, DataLoader\n",
    "from mxnet import init\n",
    "from d2l import mxnet as d2l\n",
    "import seaborn as sns\n",
    "from sklearn.preprocessing import StandardScaler\n",
    "npx.set_np()"
   ]
  },
  {
   "cell_type": "code",
   "execution_count": 2,
   "metadata": {},
   "outputs": [],
   "source": [
    "w = np.array([4, 200])\n",
    "nobs = 1000\n",
    "A = np.ones((nobs, 2))\n",
    "A[:, 0] = np.random.normal(100, 20, nobs)\n",
    "y = np.dot(A, w) + np.random.normal(scale=0.01, size=nobs)"
   ]
  },
  {
   "cell_type": "code",
   "execution_count": 3,
   "metadata": {},
   "outputs": [],
   "source": [
    "true_w = np.array([4])\n",
    "true_b = 200\n",
    "features, y = d2l.synthetic_data(true_w, true_b, nobs)\n",
    "A = np.ones((nobs, 3))\n",
    "A[:, 0] = features.squeeze()"
   ]
  },
  {
   "cell_type": "code",
   "execution_count": 348,
   "metadata": {},
   "outputs": [
    {
     "data": {
      "text/plain": [
       "<matplotlib.axes._subplots.AxesSubplot at 0x7ff94e2b6160>"
      ]
     },
     "execution_count": 348,
     "metadata": {},
     "output_type": "execute_result"
    },
    {
     "data": {
      "image/png": "[encoded data removed]",
      "text/plain": [
       "<Figure size 432x288 with 1 Axes>"
      ]
     },
     "metadata": {
      "needs_background": "light"
     },
     "output_type": "display_data"
    }
   ],
   "source": [
    "sns.scatterplot(x=A[:, 0].squeeze().tolist(), y=y.tolist())"
   ]
  },
  {
   "cell_type": "markdown",
   "metadata": {},
   "source": [
    "## Define Data iterator"
   ]
  },
  {
   "cell_type": "code",
   "execution_count": 4,
   "metadata": {},
   "outputs": [],
   "source": [
    "def dataiter(data, batch_size=100, is_train=False):\n",
    "    ds = ArrayDataset(*data)\n",
    "    return DataLoader(ds, batch_size=batch_size, shuffle=is_train)"
   ]
  },
  {
   "cell_type": "code",
   "execution_count": 5,
   "metadata": {},
   "outputs": [],
   "source": [
    "def normalize(X):\n",
    "    mean = X.mean(axis=0)\n",
    "    sd = X.std(axis=0)\n",
    "    return (X - mean)/sd, mean, sd"
   ]
  },
  {
   "cell_type": "code",
   "execution_count": 6,
   "metadata": {},
   "outputs": [],
   "source": [
    "batch_size = 100\n",
    "features = A[:, 0, None]\n",
    "features, mean, sd = normalize(features)\n",
    "data = dataiter((features, y), batch_size=batch_size)"
   ]
  },
  {
   "cell_type": "markdown",
   "metadata": {},
   "source": [
    "## Define Architecture"
   ]
  },
  {
   "cell_type": "code",
   "execution_count": 13,
   "metadata": {},
   "outputs": [],
   "source": [
    "net = nn.Sequential()\n",
    "net.add(nn.Dense(1, use_bias=True))"
   ]
  },
  {
   "cell_type": "markdown",
   "metadata": {},
   "source": [
    "### Initialize Params"
   ]
  },
  {
   "cell_type": "code",
   "execution_count": 14,
   "metadata": {},
   "outputs": [],
   "source": [
    "net.initialize(init.Normal(sigma=0.01))"
   ]
  },
  {
   "cell_type": "markdown",
   "metadata": {},
   "source": [
    "## Define Loss"
   ]
  },
  {
   "cell_type": "code",
   "execution_count": 15,
   "metadata": {},
   "outputs": [],
   "source": [
    "loss_fn = L2Loss()"
   ]
  },
  {
   "cell_type": "markdown",
   "metadata": {},
   "source": [
    "## Define Optimization loop"
   ]
  },
  {
   "cell_type": "code",
   "execution_count": 16,
   "metadata": {},
   "outputs": [
    {
     "name": "stdout",
     "output_type": "stream",
     "text": [
      "Epoch: 1, Loss: 4.577266e-05\n",
      "Epoch: 2, Loss: 4.5772686e-05\n",
      "Epoch: 3, Loss: 4.5772686e-05\n",
      "Epoch: 4, Loss: 4.5772686e-05\n",
      "Epoch: 5, Loss: 4.5772686e-05\n"
     ]
    }
   ],
   "source": [
    "num_epochs = 5\n",
    "train = Trainer(net.collect_params(), 'sgd', optimizer_params={'learning_rate': 1})\n",
    "for epoch in range(num_epochs):\n",
    "    for X, y_true in data:\n",
    "        with autograd.record():\n",
    "            y_hat = net(X)\n",
    "            loss = loss_fn(y_true, y_hat)\n",
    "        loss.backward()\n",
    "        train.step(batch_size)\n",
    "    print(f'Epoch: {epoch + 1}, Loss: {loss.mean()}')"
   ]
  },
  {
   "cell_type": "code",
   "execution_count": 17,
   "metadata": {},
   "outputs": [
    {
     "data": {
      "text/plain": [
       "array([[4.000939]])"
      ]
     },
     "execution_count": 17,
     "metadata": {},
     "output_type": "execute_result"
    }
   ],
   "source": [
    "net[0].weight.data()/sd"
   ]
  },
  {
   "cell_type": "code",
   "execution_count": 18,
   "metadata": {},
   "outputs": [
    {
     "data": {
      "text/plain": [
       "array([[199.99933]])"
      ]
     },
     "execution_count": 18,
     "metadata": {},
     "output_type": "execute_result"
    }
   ],
   "source": [
    "net[0].bias.data() - net[0].weight.data()*mean/sd"
   ]
  }
 ],
 "metadata": {
  "kernelspec": {
   "display_name": "conda_mxnet_p36",
   "language": "python",
   "name": "conda_mxnet_p36"
  },
  "language_info": {
   "codemirror_mode": {
    "name": "ipython",
    "version": 3
   },
   "file_extension": ".py",
   "mimetype": "text/x-python",
   "name": "python",
   "nbconvert_exporter": "python",
   "pygments_lexer": "ipython3",
   "version": "3.6.10"
  }
 },
 "nbformat": 4,
 "nbformat_minor": 4
}
