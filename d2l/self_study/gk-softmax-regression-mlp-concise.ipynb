{
 "cells": [
  {
   "cell_type": "code",
   "execution_count": 152,
   "metadata": {},
   "outputs": [],
   "source": [
    "from mxnet import np, npx, autograd\n",
    "from d2l import mxnet as d2l\n",
    "from mxnet.gluon.loss import SoftmaxCrossEntropyLoss\n",
    "import mxnet.gluon.nn as nn\n",
    "from mxnet.gluon.trainer import Trainer\n",
    "from mxnet import initializer\n",
    "npx.set_np()"
   ]
  },
  {
   "cell_type": "markdown",
   "metadata": {},
   "source": [
    "## Load Data"
   ]
  },
  {
   "cell_type": "code",
   "execution_count": 158,
   "metadata": {},
   "outputs": [],
   "source": [
    "batch_size = 256\n",
    "num_classes = 10\n",
    "train_dl, test_dl = d2l.load_data_fashion_mnist(batch_size)"
   ]
  },
  {
   "cell_type": "code",
   "execution_count": 116,
   "metadata": {},
   "outputs": [
    {
     "data": {
      "image/png": "[encoded data removed]",
      "text/plain": [
       "<Figure size 540x108 with 5 Axes>"
      ]
     },
     "metadata": {
      "needs_background": "light"
     },
     "output_type": "display_data"
    }
   ],
   "source": [
    "n = 5\n",
    "batch = next(iter(train_dl))\n",
    "imgs = batch[0][:n]\n",
    "labels = d2l.get_fashion_mnist_labels(batch[1][:n])\n",
    "d2l.show_images(np.reshape(imgs, (n, 28, 28)), num_rows=1, num_cols=n, titles=labels);"
   ]
  },
  {
   "cell_type": "markdown",
   "metadata": {},
   "source": [
    "## Define Architecture"
   ]
  },
  {
   "cell_type": "code",
   "execution_count": 159,
   "metadata": {},
   "outputs": [],
   "source": [
    "net = nn.Sequential()\n",
    "net.add(nn.Dense(256))\n",
    "net.add(nn.Dense(num_classes))\n",
    "net.initialize(initializer.Normal(sigma=0.01))"
   ]
  },
  {
   "cell_type": "markdown",
   "metadata": {},
   "source": [
    "## Define Loss"
   ]
  },
  {
   "cell_type": "code",
   "execution_count": 160,
   "metadata": {},
   "outputs": [],
   "source": [
    "def loss_fn(yhat, y):\n",
    "    scel = SoftmaxCrossEntropyLoss(from_logits=False)\n",
    "    loss = scel(yhat, y)\n",
    "    return loss.mean()"
   ]
  },
  {
   "cell_type": "markdown",
   "metadata": {},
   "source": [
    "## Define Trainer"
   ]
  },
  {
   "cell_type": "code",
   "execution_count": 165,
   "metadata": {},
   "outputs": [],
   "source": [
    "num_epochs = 2\n",
    "trainer = Trainer(net.collect_params(), 'sgd', optimizer_params={'learning_rate': 0.1})"
   ]
  },
  {
   "cell_type": "code",
   "execution_count": 166,
   "metadata": {},
   "outputs": [
    {
     "name": "stdout",
     "output_type": "stream",
     "text": [
      "Epoch: 0, Loss: 0.46787533164024353\n",
      "Epoch: 1, Loss: 0.3528169095516205\n"
     ]
    }
   ],
   "source": [
    "for epoch in range(num_epochs):\n",
    "    for X, y in train_dl:\n",
    "        num_samples = X.shape[0]\n",
    "        X = np.reshape(X, (num_samples, -1))\n",
    "        with autograd.record():\n",
    "            yhat = net(X)\n",
    "            loss = loss_fn(yhat, y)\n",
    "        loss.backward()\n",
    "        trainer.step(batch_size=1)\n",
    "    print(f'Epoch: {epoch}, Loss: {loss.item()}')"
   ]
  },
  {
   "cell_type": "markdown",
   "metadata": {},
   "source": [
    "## Summarize Performance"
   ]
  },
  {
   "cell_type": "code",
   "execution_count": 167,
   "metadata": {},
   "outputs": [],
   "source": [
    "num_samples = 0\n",
    "num_correct = 0\n",
    "for X, y in test_dl:\n",
    "    yhat = net(X)\n",
    "    preds = np.argmax(yhat, axis=1).astype('int32')\n",
    "    num_samples += X.shape[0]\n",
    "    num_correct += (y == preds).sum()"
   ]
  },
  {
   "cell_type": "code",
   "execution_count": 168,
   "metadata": {},
   "outputs": [
    {
     "data": {
      "text/plain": [
       "array(0.8282)"
      ]
     },
     "execution_count": 168,
     "metadata": {},
     "output_type": "execute_result"
    }
   ],
   "source": [
    "num_correct/num_samples"
   ]
  }
 ],
 "metadata": {
  "kernelspec": {
   "display_name": "conda_mxnet_p36",
   "language": "python",
   "name": "conda_mxnet_p36"
  },
  "language_info": {
   "codemirror_mode": {
    "name": "ipython",
    "version": 3
   },
   "file_extension": ".py",
   "mimetype": "text/x-python",
   "name": "python",
   "nbconvert_exporter": "python",
   "pygments_lexer": "ipython3",
   "version": "3.6.10"
  }
 },
 "nbformat": 4,
 "nbformat_minor": 4
}
