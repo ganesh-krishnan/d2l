{
 "cells": [
  {
   "cell_type": "code",
   "execution_count": 57,
   "metadata": {},
   "outputs": [],
   "source": [
    "import mxnet\n",
    "from mxnet import np, npx, autograd\n",
    "from mxnet.gluon import Trainer, nn\n",
    "from mxnet.gluon.loss import SoftmaxCrossEntropyLoss\n",
    "import mxnet.initializer as initializer\n",
    "from PIL import Image\n",
    "from d2l import mxnet as d2l\n",
    "from pdb import set_trace\n",
    "npx.set_np()"
   ]
  },
  {
   "cell_type": "markdown",
   "metadata": {},
   "source": [
    "### Get Data"
   ]
  },
  {
   "cell_type": "code",
   "execution_count": 58,
   "metadata": {},
   "outputs": [],
   "source": [
    "batch_size = 256\n",
    "train_dl, test_dl = d2l.load_data_fashion_mnist(batch_size, resize=224)"
   ]
  },
  {
   "cell_type": "code",
   "execution_count": 56,
   "metadata": {},
   "outputs": [
    {
     "data": {
      "image/svg+xml": [
       "<?xml version=\"1.0\" encoding=\"utf-8\" standalone=\"no\"?>\n",
       "<!DOCTYPE svg PUBLIC \"-//W3C//DTD SVG 1.1//EN\"\n",
       "  \"http://www.w3.org/Graphics/SVG/1.1/DTD/svg11.dtd\">\n",
       "<!-- Created with matplotlib (https://matplotlib.org/) -->\n",
       "<svg height=\"93.990909pt\" version=\"1.1\" viewBox=\"0 0 185.3 93.990909\" width=\"185.3pt\" xmlns=\"http://www.w3.org/2000/svg\" xmlns:xlink=\"http://www.w3.org/1999/xlink\">\n",
       " <defs>\n",
       "  <style type=\"text/css\">\n",
       "*{stroke-linecap:butt;stroke-linejoin:round;}\n",
       "  </style>\n",
       " </defs>\n",
       " <g id=\"figure_1\">\n",
       "  <g id=\"patch_1\">\n",
       "   <path d=\"M 0 93.990909 \n",
       "L 185.3 93.990909 \n",
       "L 185.3 0 \n",
       "L 0 0 \n",
       "z\n",
       "\" style=\"fill:none;\"/>\n",
       "  </g>\n",
       "  <g id=\"axes_1\">\n",
       "   <g id=\"patch_2\">\n",
       "    <path d=\"M 10.7 83.290909 \n",
       "L 86.790909 83.290909 \n",
       "L 86.790909 7.2 \n",
       "L 10.7 7.2 \n",
       "z\n",
       "\" style=\"fill:#ffffff;\"/>\n",
       "   </g>\n",
       "   <g clip-path=\"url(#p75e1bff7f1)\">\n",
       "    <image height=\"77\" id=\"image4238fed16b\" transform=\"scale(1 -1)translate(0 -77)\" width=\"77\" x=\"10.7\" xlink:href=\"data:image/png;base64,\n",
       "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\" y=\"-6.290909\"/>\n",
       "   </g>\n",
       "   <g id=\"patch_3\">\n",
       "    <path d=\"M 10.7 83.290909 \n",
       "L 10.7 7.2 \n",
       "\" style=\"fill:none;stroke:#000000;stroke-linecap:square;stroke-linejoin:miter;stroke-width:0.8;\"/>\n",
       "   </g>\n",
       "   <g id=\"patch_4\">\n",
       "    <path d=\"M 86.790909 83.290909 \n",
       "L 86.790909 7.2 \n",
       "\" style=\"fill:none;stroke:#000000;stroke-linecap:square;stroke-linejoin:miter;stroke-width:0.8;\"/>\n",
       "   </g>\n",
       "   <g id=\"patch_5\">\n",
       "    <path d=\"M 10.7 83.290909 \n",
       "L 86.790909 83.290909 \n",
       "\" style=\"fill:none;stroke:#000000;stroke-linecap:square;stroke-linejoin:miter;stroke-width:0.8;\"/>\n",
       "   </g>\n",
       "   <g id=\"patch_6\">\n",
       "    <path d=\"M 10.7 7.2 \n",
       "L 86.790909 7.2 \n",
       "\" style=\"fill:none;stroke:#000000;stroke-linecap:square;stroke-linejoin:miter;stroke-width:0.8;\"/>\n",
       "   </g>\n",
       "  </g>\n",
       "  <g id=\"axes_2\">\n",
       "   <g id=\"patch_7\">\n",
       "    <path d=\"M 102.009091 83.290909 \n",
       "L 178.1 83.290909 \n",
       "L 178.1 7.2 \n",
       "L 102.009091 7.2 \n",
       "z\n",
       "\" style=\"fill:#ffffff;\"/>\n",
       "   </g>\n",
       "   <g clip-path=\"url(#p38d87d1e2c)\">\n",
       "    <image height=\"77\" id=\"image31b418b50c\" transform=\"scale(1 -1)translate(0 -77)\" width=\"77\" x=\"102.009091\" xlink:href=\"data:image/png;base64,\n",
       "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\" y=\"-6.290909\"/>\n",
       "   </g>\n",
       "   <g id=\"patch_8\">\n",
       "    <path d=\"M 102.009091 83.290909 \n",
       "L 102.009091 7.2 \n",
       "\" style=\"fill:none;stroke:#000000;stroke-linecap:square;stroke-linejoin:miter;stroke-width:0.8;\"/>\n",
       "   </g>\n",
       "   <g id=\"patch_9\">\n",
       "    <path d=\"M 178.1 83.290909 \n",
       "L 178.1 7.2 \n",
       "\" style=\"fill:none;stroke:#000000;stroke-linecap:square;stroke-linejoin:miter;stroke-width:0.8;\"/>\n",
       "   </g>\n",
       "   <g id=\"patch_10\">\n",
       "    <path d=\"M 102.009091 83.290909 \n",
       "L 178.1 83.290909 \n",
       "\" style=\"fill:none;stroke:#000000;stroke-linecap:square;stroke-linejoin:miter;stroke-width:0.8;\"/>\n",
       "   </g>\n",
       "   <g id=\"patch_11\">\n",
       "    <path d=\"M 102.009091 7.2 \n",
       "L 178.1 7.2 \n",
       "\" style=\"fill:none;stroke:#000000;stroke-linecap:square;stroke-linejoin:miter;stroke-width:0.8;\"/>\n",
       "   </g>\n",
       "  </g>\n",
       " </g>\n",
       " <defs>\n",
       "  <clipPath id=\"p75e1bff7f1\">\n",
       "   <rect height=\"76.090909\" width=\"76.090909\" x=\"10.7\" y=\"7.2\"/>\n",
       "  </clipPath>\n",
       "  <clipPath id=\"p38d87d1e2c\">\n",
       "   <rect height=\"76.090909\" width=\"76.090909\" x=\"102.009091\" y=\"7.2\"/>\n",
       "  </clipPath>\n",
       " </defs>\n",
       "</svg>\n"
      ],
      "text/plain": [
       "<Figure size 216x108 with 2 Axes>"
      ]
     },
     "metadata": {
      "needs_background": "light"
     },
     "output_type": "display_data"
    }
   ],
   "source": [
    "imgs = next(iter(train_dl))\n",
    "d2l.show_images([img.squeeze() for img in list(imgs[0])], 1, 2);"
   ]
  },
  {
   "cell_type": "markdown",
   "metadata": {},
   "source": [
    "### Define Architecture"
   ]
  },
  {
   "cell_type": "code",
   "execution_count": 70,
   "metadata": {},
   "outputs": [],
   "source": [
    "activation = 'relu'\n",
    "net = nn.Sequential()\n",
    "net.add(nn.Conv2D(96, 11, 4),\n",
    "        nn.MaxPool2D(3, 2),\n",
    "        nn.Conv2D(256, 5, 1, 2),\n",
    "        nn.MaxPool2D(3, 2),\n",
    "        nn.Conv2D(384, 3, 1, 1),\n",
    "        nn.Conv2D(384, 3, 1, 1),\n",
    "        nn.Conv2D(256, 3, 1, 1),\n",
    "        nn.MaxPool2D(3, 2),\n",
    "        nn.Dense(4096, activation='relu'),\n",
    "        nn.Dropout(0.5),\n",
    "        nn.Dense(4096, activation='relu'),\n",
    "        nn.Dropout(0.5),\n",
    "        nn.Dense(10))\n",
    "net.initialize(initializer.Xavier(), force_reinit=True)"
   ]
  },
  {
   "cell_type": "code",
   "execution_count": 71,
   "metadata": {},
   "outputs": [
    {
     "data": {
      "text/plain": [
       "Sequential(\n",
       "  (0): Conv2D(-1 -> 96, kernel_size=(11, 11), stride=(4, 4))\n",
       "  (1): MaxPool2D(size=(3, 3), stride=(2, 2), padding=(0, 0), ceil_mode=False, global_pool=False, pool_type=max, layout=NCHW)\n",
       "  (2): Conv2D(-1 -> 256, kernel_size=(5, 5), stride=(1, 1), padding=(2, 2))\n",
       "  (3): MaxPool2D(size=(3, 3), stride=(2, 2), padding=(0, 0), ceil_mode=False, global_pool=False, pool_type=max, layout=NCHW)\n",
       "  (4): Conv2D(-1 -> 384, kernel_size=(3, 3), stride=(1, 1), padding=(1, 1))\n",
       "  (5): Conv2D(-1 -> 384, kernel_size=(3, 3), stride=(1, 1), padding=(1, 1))\n",
       "  (6): Conv2D(-1 -> 256, kernel_size=(3, 3), stride=(1, 1), padding=(1, 1))\n",
       "  (7): MaxPool2D(size=(3, 3), stride=(2, 2), padding=(0, 0), ceil_mode=False, global_pool=False, pool_type=max, layout=NCHW)\n",
       "  (8): Dense(-1 -> 4096, Activation(relu))\n",
       "  (9): Dropout(p = 0.5, axes=())\n",
       "  (10): Dense(-1 -> 4096, Activation(relu))\n",
       "  (11): Dropout(p = 0.5, axes=())\n",
       "  (12): Dense(-1 -> 10, linear)\n",
       ")"
      ]
     },
     "execution_count": 71,
     "metadata": {},
     "output_type": "execute_result"
    }
   ],
   "source": [
    "net"
   ]
  },
  {
   "cell_type": "code",
   "execution_count": 69,
   "metadata": {},
   "outputs": [
    {
     "name": "stdout",
     "output_type": "stream",
     "text": [
      "conv47 shape is (1, 96, 54, 54)\n",
      "pool41 shape is (1, 96, 26, 26)\n",
      "conv48 shape is (1, 256, 26, 26)\n",
      "pool42 shape is (1, 256, 12, 12)\n",
      "conv49 shape is (1, 384, 12, 12)\n",
      "conv50 shape is (1, 384, 12, 12)\n",
      "conv51 shape is (1, 256, 12, 12)\n",
      "pool43 shape is (1, 256, 5, 5)\n",
      "dense57 shape is (1, 4096)\n",
      "dropout2 shape is (1, 4096)\n",
      "dense58 shape is (1, 4096)\n",
      "dropout3 shape is (1, 4096)\n",
      "dense59 shape is (1, 10)\n"
     ]
    }
   ],
   "source": [
    "X1orig = X1 = np.random.uniform(size=(1, 1, 224, 224))\n",
    "for layer in net:\n",
    "    X1 = layer(X1)\n",
    "    print(f'{layer.name} shape is {X1.shape}')"
   ]
  },
  {
   "cell_type": "markdown",
   "metadata": {},
   "source": [
    "### Define Loss"
   ]
  },
  {
   "cell_type": "code",
   "execution_count": 72,
   "metadata": {},
   "outputs": [],
   "source": [
    "def loss_fn(yhat, y):\n",
    "    lfn = SoftmaxCrossEntropyLoss()\n",
    "    return lfn(yhat, y)"
   ]
  },
  {
   "cell_type": "markdown",
   "metadata": {},
   "source": [
    "### Train Network"
   ]
  },
  {
   "cell_type": "code",
   "execution_count": null,
   "metadata": {},
   "outputs": [],
   "source": [
    "num_epochs = 5\n",
    "lr = 0.1\n",
    "optim = Trainer(net.collect_params(), 'adam', optimizer_params={'learning_rate': lr})\n",
    "for epoch in range(num_epochs):\n",
    "    for X, y in iter(train_dl):\n",
    "        with autograd.record():\n",
    "            yhat = net(X)\n",
    "            loss = loss_fn(yhat, y)\n",
    "        loss.backward()\n",
    "        optim.step(batch_size=X.shape[0])\n",
    "    test_accuracy = calc_accuracy(test_dl, net)\n",
    "    print(f'Epoch: {epoch}, Loss is: {loss.mean()}, test_accuracy: {test_accuracy}')"
   ]
  },
  {
   "cell_type": "markdown",
   "metadata": {},
   "source": [
    "### Calculate Accuracy"
   ]
  },
  {
   "cell_type": "code",
   "execution_count": 30,
   "metadata": {},
   "outputs": [],
   "source": [
    "def calc_accuracy(dl, net):\n",
    "    num_samples = 0\n",
    "    num_correct = 0\n",
    "    for X, y in iter(dl):\n",
    "        yhat = net(X)\n",
    "        classes = yhat.argmax(axis=1).astype('int32')\n",
    "        matches = (classes == y)\n",
    "        num_samples += X.shape[0]\n",
    "        num_correct += matches.sum().item()\n",
    "    return num_correct/num_samples"
   ]
  },
  {
   "cell_type": "code",
   "execution_count": 49,
   "metadata": {},
   "outputs": [
    {
     "data": {
      "text/plain": [
       "0.7872"
      ]
     },
     "execution_count": 49,
     "metadata": {},
     "output_type": "execute_result"
    }
   ],
   "source": [
    "calc_accuracy(test_dl, net)"
   ]
  },
  {
   "cell_type": "markdown",
   "metadata": {},
   "source": [
    "### Things I learnt\n",
    "- I had replaced the sigmoid with ReLU. ReLU's are prone to a problem called dead ReLU. This [link](https://datascience.stackexchange.com/questions/5706/what-is-the-dying-relu-problem-in-neural-networks) explains the problem in detail. Essentially, a large negative gradient could cause the input activations to always be negative. This would mean that the gradient for the ReLU will always be -ve and it will never recover\n",
    "- Reducing the LR helped for this case\n",
    "- The other thing was that Xavier initialization helped gain 3% points of accuracy as compared to Normal(0.01) initialization"
   ]
  }
 ],
 "metadata": {
  "kernelspec": {
   "display_name": "conda_mxnet_p36",
   "language": "python",
   "name": "conda_mxnet_p36"
  },
  "language_info": {
   "codemirror_mode": {
    "name": "ipython",
    "version": 3
   },
   "file_extension": ".py",
   "mimetype": "text/x-python",
   "name": "python",
   "nbconvert_exporter": "python",
   "pygments_lexer": "ipython3",
   "version": "3.6.10"
  }
 },
 "nbformat": 4,
 "nbformat_minor": 4
}
