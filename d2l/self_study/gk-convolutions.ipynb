{
 "cells": [
  {
   "cell_type": "code",
   "execution_count": 117,
   "metadata": {},
   "outputs": [],
   "source": [
    "%matplotlib inline\n",
    "from mxnet import np, npx, autograd\n",
    "from mxnet.gluon import nn, Trainer\n",
    "from mxnet.gluon.loss import L2Loss\n",
    "import mxnet.initializer as initializer\n",
    "from d2l import mxnet as d2l\n",
    "from PIL import Image\n",
    "from pdb import set_trace\n",
    "npx.set_np()"
   ]
  },
  {
   "cell_type": "code",
   "execution_count": 141,
   "metadata": {},
   "outputs": [],
   "source": [
    "X = np.zeros((6, 9))\n",
    "X[:, 0:2] = 1\n",
    "X[:, -1:-3:-1] = 1"
   ]
  },
  {
   "cell_type": "code",
   "execution_count": 142,
   "metadata": {},
   "outputs": [],
   "source": [
    "def crosscorr2d(X, K):\n",
    "    n_x, n_y = X.shape\n",
    "    k_x, k_y = K.shape\n",
    "    result = []\n",
    "    result_xdim = (n_x - k_x + 1)\n",
    "    result_ydim = (n_y - k_y + 1)\n",
    "    Y = np.zeros(shape=((n_x - k_x + 1), (n_y - k_y + 1)))\n",
    "    for i in range(result_xdim):\n",
    "        for j in range(result_ydim):\n",
    "            result.append((X[i:(i + k_x), j:(j + k_y)]*K).sum())\n",
    "    Y = np.array(result).reshape((result_xdim, result_ydim))\n",
    "    #Y = np.repeat(np.repeat(K, 4, axis=1), 6, axis=0)\n",
    "    return Y"
   ]
  },
  {
   "cell_type": "code",
   "execution_count": 143,
   "metadata": {},
   "outputs": [],
   "source": [
    "K = np.array([[1, -1]])\n",
    "y = crosscorr2d(X, K)"
   ]
  },
  {
   "cell_type": "code",
   "execution_count": 144,
   "metadata": {},
   "outputs": [],
   "source": [
    "X = X.reshape(1, 1, X.shape[0], X.shape[1])\n",
    "y = y.reshape(1, 1, y.shape[0], y.shape[1])"
   ]
  },
  {
   "cell_type": "code",
   "execution_count": 113,
   "metadata": {},
   "outputs": [],
   "source": [
    "class CustomConv2D(nn.Block):\n",
    "    def __init__(self, kernel_shape, **kwargs):\n",
    "        super().__init__(**kwargs)\n",
    "        self.kernel = self.params.get('kernel', shape=kernel_shape)\n",
    "    \n",
    "    def forward(self, x):\n",
    "        yhat = crosscorr2d(x, self.kernel.data())\n",
    "        return yhat"
   ]
  },
  {
   "cell_type": "code",
   "execution_count": 125,
   "metadata": {},
   "outputs": [],
   "source": [
    "net = nn.Sequential()\n",
    "net.add(nn.Conv2D(1, (1, 2)))\n",
    "net.initialize()"
   ]
  },
  {
   "cell_type": "code",
   "execution_count": 129,
   "metadata": {},
   "outputs": [],
   "source": [
    "num_epochs = 100\n",
    "lr = 0.1\n",
    "optim = Trainer(net.collect_params(), 'sgd', {'learning_rate': lr})\n",
    "for epoch in range(num_epochs):\n",
    "    with autograd.record():\n",
    "        yhat = net(X)\n",
    "        loss = L2Loss()(yhat, y)\n",
    "    loss.backward()\n",
    "    optim.step(batch_size=1)"
   ]
  },
  {
   "cell_type": "code",
   "execution_count": 130,
   "metadata": {},
   "outputs": [
    {
     "data": {
      "text/plain": [
       "array([[[[ 0.9140745 , -0.91406244]]]])"
      ]
     },
     "execution_count": 130,
     "metadata": {},
     "output_type": "execute_result"
    }
   ],
   "source": [
    "net[0].weight.data()"
   ]
  },
  {
   "cell_type": "code",
   "execution_count": 145,
   "metadata": {},
   "outputs": [],
   "source": [
    "X1 = np.repeat(X, 3, axis=1).squeeze()"
   ]
  },
  {
   "cell_type": "code",
   "execution_count": 150,
   "metadata": {},
   "outputs": [],
   "source": [
    "K1 = np.repeat(K[np.newaxis, : , :], 3, axis=0)"
   ]
  },
  {
   "cell_type": "code",
   "execution_count": 166,
   "metadata": {},
   "outputs": [
    {
     "data": {
      "text/plain": [
       "(3, 6, 9)"
      ]
     },
     "execution_count": 166,
     "metadata": {},
     "output_type": "execute_result"
    }
   ],
   "source": [
    "X1.shape"
   ]
  },
  {
   "cell_type": "code",
   "execution_count": 155,
   "metadata": {},
   "outputs": [
    {
     "data": {
      "text/plain": [
       "(array([[1., 1., 0., 0., 0., 0., 0., 1., 1.],\n",
       "        [1., 1., 0., 0., 0., 0., 0., 1., 1.],\n",
       "        [1., 1., 0., 0., 0., 0., 0., 1., 1.],\n",
       "        [1., 1., 0., 0., 0., 0., 0., 1., 1.],\n",
       "        [1., 1., 0., 0., 0., 0., 0., 1., 1.],\n",
       "        [1., 1., 0., 0., 0., 0., 0., 1., 1.]]),\n",
       " array([[ 1., -1.]]))"
      ]
     },
     "execution_count": 155,
     "metadata": {},
     "output_type": "execute_result"
    }
   ],
   "source": [
    "next(abc)"
   ]
  },
  {
   "cell_type": "code",
   "execution_count": 182,
   "metadata": {},
   "outputs": [],
   "source": [
    "from functools import reduce\n",
    "def corr2d_multi_in(X, K):\n",
    "    channel_corr2d = [crosscorr2d(channel, channel_kernel) for channel, channel_kernel in zip(X, K)]\n",
    "    return sum(channel_corr2d)"
   ]
  },
  {
   "cell_type": "code",
   "execution_count": 183,
   "metadata": {},
   "outputs": [],
   "source": [
    "def corr2d_multi_in_out(X, K):\n",
    "    # Iterate through the 0th dimension of `K`, and each time, perform\n",
    "    # cross-correlation operations with input `X`. All of the results are\n",
    "    # stacked together\n",
    "    return np.stack([corr2d_multi_in(X, k) for k in K], 0)"
   ]
  },
  {
   "cell_type": "code",
   "execution_count": 189,
   "metadata": {},
   "outputs": [],
   "source": [
    "K2 = np.repeat(K1[np.newaxis], 5, axis=0)"
   ]
  },
  {
   "cell_type": "code",
   "execution_count": 191,
   "metadata": {},
   "outputs": [
    {
     "data": {
      "text/plain": [
       "(5, 6, 8)"
      ]
     },
     "execution_count": 191,
     "metadata": {},
     "output_type": "execute_result"
    }
   ],
   "source": [
    "corr2d_multi_in_out(X1, K2).shape"
   ]
  },
  {
   "cell_type": "code",
   "execution_count": 181,
   "metadata": {},
   "outputs": [
    {
     "data": {
      "text/plain": [
       "array([[ 0.,  3.,  0.,  0.,  0.,  0., -3.,  0.],\n",
       "       [ 0.,  3.,  0.,  0.,  0.,  0., -3.,  0.],\n",
       "       [ 0.,  3.,  0.,  0.,  0.,  0., -3.,  0.],\n",
       "       [ 0.,  3.,  0.,  0.,  0.,  0., -3.,  0.],\n",
       "       [ 0.,  3.,  0.,  0.,  0.,  0., -3.,  0.],\n",
       "       [ 0.,  3.,  0.,  0.,  0.,  0., -3.,  0.]])"
      ]
     },
     "execution_count": 181,
     "metadata": {},
     "output_type": "execute_result"
    }
   ],
   "source": [
    "multicorr_in(X1, K1)"
   ]
  },
  {
   "cell_type": "markdown",
   "metadata": {},
   "source": [
    "## Appendix"
   ]
  },
  {
   "cell_type": "code",
   "execution_count": null,
   "metadata": {},
   "outputs": [],
   "source": [
    "def crosscorr2d_old(X, K):\n",
    "    n_x, n_y = X.shape\n",
    "    k_x, k_y = K.shape\n",
    "    Y = np.zeros(shape=((n_x - k_x + 1), (n_y - k_y + 1)))\n",
    "    for i in range(Y.shape[0]):\n",
    "        for j in range(Y.shape[1]):\n",
    "            Y[i, j] = (X[i:(i + k_x), j:(j + k_y)]*K).sum()\n",
    "    return Y"
   ]
  }
 ],
 "metadata": {
  "kernelspec": {
   "display_name": "conda_mxnet_p36",
   "language": "python",
   "name": "conda_mxnet_p36"
  },
  "language_info": {
   "codemirror_mode": {
    "name": "ipython",
    "version": 3
   },
   "file_extension": ".py",
   "mimetype": "text/x-python",
   "name": "python",
   "nbconvert_exporter": "python",
   "pygments_lexer": "ipython3",
   "version": "3.6.10"
  }
 },
 "nbformat": 4,
 "nbformat_minor": 4
}
