{
 "cells": [
  {
   "cell_type": "code",
   "execution_count": 32,
   "metadata": {},
   "outputs": [],
   "source": [
    "from mxnet import npx, np, autograd\n",
    "from mxnet.gluon import nn, Trainer\n",
    "from mxnet.gluon.loss import SoftmaxCrossEntropyLoss\n",
    "import mxnet.initializer as init\n",
    "from d2l import mxnet as d2l\n",
    "npx.set_np()"
   ]
  },
  {
   "cell_type": "markdown",
   "metadata": {},
   "source": [
    "## Load Data"
   ]
  },
  {
   "cell_type": "code",
   "execution_count": 30,
   "metadata": {},
   "outputs": [],
   "source": [
    "num_classes = 10\n",
    "batch_size = 200\n",
    "train_dl, test_dl = d2l.load_data_fashion_mnist(batch_size)"
   ]
  },
  {
   "cell_type": "code",
   "execution_count": 6,
   "metadata": {},
   "outputs": [],
   "source": [
    "abc = next(iter(train_dl))"
   ]
  },
  {
   "cell_type": "code",
   "execution_count": 10,
   "metadata": {},
   "outputs": [
    {
     "data": {
      "text/plain": [
       "(2, 1, 28, 28)"
      ]
     },
     "execution_count": 10,
     "metadata": {},
     "output_type": "execute_result"
    }
   ],
   "source": [
    "abc[1].shape"
   ]
  },
  {
   "cell_type": "markdown",
   "metadata": {},
   "source": [
    "## Define Architecture"
   ]
  },
  {
   "cell_type": "code",
   "execution_count": 22,
   "metadata": {},
   "outputs": [],
   "source": [
    "model = nn.Sequential()\n",
    "layers = [nn.Dense(256, 'relu'),\n",
    "          nn.Dropout(0.1),\n",
    "          nn.Dense(256, 'relu'),\n",
    "          nn.Dropout(0.3),\n",
    "          nn.Dense(num_classes)]\n",
    "for layer in layers:\n",
    "    model.add(layer)\n",
    "model.initialize(init.Normal(sigma=0.01))"
   ]
  },
  {
   "cell_type": "markdown",
   "metadata": {},
   "source": [
    "## Define Loss"
   ]
  },
  {
   "cell_type": "code",
   "execution_count": null,
   "metadata": {},
   "outputs": [],
   "source": [
    "def loss_fn(yhat, y):\n",
    "    loss_cls = SoftmaxCrossEntropyLoss()\n",
    "    return loss_cls(yhat, y)"
   ]
  },
  {
   "cell_type": "markdown",
   "metadata": {},
   "source": [
    "## Define Trainer"
   ]
  },
  {
   "cell_type": "code",
   "execution_count": 44,
   "metadata": {},
   "outputs": [
    {
     "name": "stdout",
     "output_type": "stream",
     "text": [
      "Epoch: 0, Loss: 0.46718895\n",
      "Epoch: 1, Loss: 0.35136956\n",
      "Epoch: 2, Loss: 0.41938508\n"
     ]
    }
   ],
   "source": [
    "num_epochs = 3\n",
    "lr = 0.1\n",
    "optimizer = Trainer(model.collect_params(), 'sgd', {'learning_rate': lr})\n",
    "for epoch in range(num_epochs):\n",
    "    for X, y in iter(train_dl):\n",
    "        batch_size = X.shape[0]\n",
    "        with autograd.record():\n",
    "            yhat = model(X)\n",
    "            loss = loss_fn(yhat, y)\n",
    "        loss.backward()\n",
    "        optimizer.step(batch_size)\n",
    "    print(f'Epoch: {epoch}, Loss: {loss.mean()}')"
   ]
  },
  {
   "cell_type": "markdown",
   "metadata": {},
   "source": [
    "## Get Accuracy"
   ]
  },
  {
   "cell_type": "code",
   "execution_count": 38,
   "metadata": {},
   "outputs": [],
   "source": [
    "def softmax(output_activations):\n",
    "    exponentiated_activations = np.exp(output_activations)\n",
    "    partition_function = exponentiated_activations.sum(axis=1, keepdims=True)\n",
    "    return exponentiated_activations/partition_function"
   ]
  },
  {
   "cell_type": "code",
   "execution_count": 39,
   "metadata": {},
   "outputs": [],
   "source": [
    "def get_labels_from_softmax(probs):\n",
    "    return np.argmax(probs, axis=1)"
   ]
  },
  {
   "cell_type": "code",
   "execution_count": 42,
   "metadata": {},
   "outputs": [],
   "source": [
    "def get_accuracy(dl, model):\n",
    "    num_samples = 0\n",
    "    num_correct = 0\n",
    "    for X, y in iter(dl):\n",
    "        logit_yhat = model(X)\n",
    "        yhat = softmax(logit_yhat)\n",
    "        preds = get_labels_from_softmax(yhat)\n",
    "        num_correct += (preds.astype('int32') == y).sum()\n",
    "        num_samples += X.shape[0]\n",
    "    return num_correct/num_samples"
   ]
  },
  {
   "cell_type": "code",
   "execution_count": 45,
   "metadata": {},
   "outputs": [
    {
     "data": {
      "text/plain": [
       "array(0.8651)"
      ]
     },
     "execution_count": 45,
     "metadata": {},
     "output_type": "execute_result"
    }
   ],
   "source": [
    "get_accuracy(test_dl, model)"
   ]
  }
 ],
 "metadata": {
  "kernelspec": {
   "display_name": "conda_mxnet_p36",
   "language": "python",
   "name": "conda_mxnet_p36"
  },
  "language_info": {
   "codemirror_mode": {
    "name": "ipython",
    "version": 3
   },
   "file_extension": ".py",
   "mimetype": "text/x-python",
   "name": "python",
   "nbconvert_exporter": "python",
   "pygments_lexer": "ipython3",
   "version": "3.6.10"
  }
 },
 "nbformat": 4,
 "nbformat_minor": 4
}
