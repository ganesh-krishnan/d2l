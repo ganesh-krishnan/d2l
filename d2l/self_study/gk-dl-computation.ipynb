{
 "cells": [
  {
   "cell_type": "code",
   "execution_count": 74,
   "metadata": {},
   "outputs": [],
   "source": [
    "from mxnet import np, npx, autograd, initializer\n",
    "from mxnet.gluon import nn, Trainer\n",
    "from d2l import mxnet as d2l\n",
    "from pdb import set_trace\n",
    "npx.set_np()"
   ]
  },
  {
   "cell_type": "code",
   "execution_count": 119,
   "metadata": {},
   "outputs": [
    {
     "data": {
      "text/plain": [
       "0"
      ]
     },
     "execution_count": 119,
     "metadata": {},
     "output_type": "execute_result"
    }
   ],
   "source": [
    "npx.num_gpus()"
   ]
  },
  {
   "cell_type": "code",
   "execution_count": 70,
   "metadata": {},
   "outputs": [],
   "source": [
    "X = np.random.uniform(size=(10000, 5))"
   ]
  },
  {
   "cell_type": "code",
   "execution_count": 71,
   "metadata": {},
   "outputs": [],
   "source": [
    "net = nn.Sequential()\n",
    "net.add(nn.Dense(10, activation='relu'))\n",
    "net.add(nn.Dense(2))\n",
    "net.initialize(initializer.Normal(sigma=0.01))\n",
    "net[0].initialize(initializer.Constant(42), force_reinit=True)\n",
    "net(X);"
   ]
  },
  {
   "cell_type": "code",
   "execution_count": 72,
   "metadata": {},
   "outputs": [
    {
     "data": {
      "text/plain": [
       "array([0., 0., 0., 0., 0., 0., 0., 0., 0., 0.])"
      ]
     },
     "execution_count": 72,
     "metadata": {},
     "output_type": "execute_result"
    }
   ],
   "source": [
    "net[0].bias.data()"
   ]
  },
  {
   "cell_type": "code",
   "execution_count": 73,
   "metadata": {},
   "outputs": [
    {
     "data": {
      "text/plain": [
       "array([[42., 42., 42., 42., 42.],\n",
       "       [42., 42., 42., 42., 42.],\n",
       "       [42., 42., 42., 42., 42.],\n",
       "       [42., 42., 42., 42., 42.],\n",
       "       [42., 42., 42., 42., 42.],\n",
       "       [42., 42., 42., 42., 42.],\n",
       "       [42., 42., 42., 42., 42.],\n",
       "       [42., 42., 42., 42., 42.],\n",
       "       [42., 42., 42., 42., 42.],\n",
       "       [42., 42., 42., 42., 42.]])"
      ]
     },
     "execution_count": 73,
     "metadata": {},
     "output_type": "execute_result"
    }
   ],
   "source": [
    "net[0].weight.data(ctx=X.ctx)"
   ]
  },
  {
   "cell_type": "code",
   "execution_count": 110,
   "metadata": {},
   "outputs": [],
   "source": [
    "class TensorReduction(nn.Block):\n",
    "    def __init__(self, i, k, **kwargs):\n",
    "        super().__init__(**kwargs)\n",
    "        self.weight = self.params.get('weight', shape=(i, i, k))\n",
    "    def forward(self, x):\n",
    "        reduction = np.sum(np.dot(x, x.T)[:, :, np.newaxis]*self.weight.data(ctx=x.ctx), axis=(0, 1))\n",
    "        return reduction"
   ]
  },
  {
   "cell_type": "code",
   "execution_count": 111,
   "metadata": {},
   "outputs": [],
   "source": [
    "tr = TensorReduction(5, 6)\n",
    "tr.initialize()"
   ]
  },
  {
   "cell_type": "code",
   "execution_count": 105,
   "metadata": {},
   "outputs": [
    {
     "data": {
      "text/plain": [
       "(5, 5)"
      ]
     },
     "execution_count": 105,
     "metadata": {},
     "output_type": "execute_result"
    }
   ],
   "source": [
    "np.dot(x, x.T).shape"
   ]
  },
  {
   "cell_type": "code",
   "execution_count": 112,
   "metadata": {},
   "outputs": [
    {
     "data": {
      "text/plain": [
       "array([ 4.5478538e-01,  2.5258830e-01, -2.9252496e-01, -3.2406211e-02,\n",
       "        2.1053758e-04, -8.4842220e-02])"
      ]
     },
     "execution_count": 112,
     "metadata": {},
     "output_type": "execute_result"
    }
   ],
   "source": [
    "tr(x)"
   ]
  },
  {
   "cell_type": "code",
   "execution_count": 67,
   "metadata": {},
   "outputs": [],
   "source": [
    "x = np.random.normal(size=(5, 1))"
   ]
  },
  {
   "cell_type": "code",
   "execution_count": 62,
   "metadata": {},
   "outputs": [
    {
     "data": {
      "text/plain": [
       "array([[-0.21280758],\n",
       "       [-1.0651625 ],\n",
       "       [ 0.58222646],\n",
       "       [ 1.3171352 ]])"
      ]
     },
     "execution_count": 62,
     "metadata": {},
     "output_type": "execute_result"
    }
   ],
   "source": [
    "x"
   ]
  },
  {
   "cell_type": "code",
   "execution_count": 61,
   "metadata": {},
   "outputs": [
    {
     "data": {
      "text/plain": [
       "array([[-0.21280758, -1.0651625 ,  0.58222646,  1.3171352 ]])"
      ]
     },
     "execution_count": 61,
     "metadata": {},
     "output_type": "execute_result"
    }
   ],
   "source": [
    "x.transpose()"
   ]
  },
  {
   "cell_type": "code",
   "execution_count": 63,
   "metadata": {},
   "outputs": [
    {
     "data": {
      "text/plain": [
       "array([[ 0.04528707,  0.22667466, -0.1239022 , -0.28029636],\n",
       "       [ 0.22667466,  1.1345712 , -0.6201658 , -1.402963  ],\n",
       "       [-0.1239022 , -0.6201658 ,  0.33898765,  0.766871  ],\n",
       "       [-0.28029636, -1.402963  ,  0.766871  ,  1.7348452 ]])"
      ]
     },
     "execution_count": 63,
     "metadata": {},
     "output_type": "execute_result"
    }
   ],
   "source": [
    "np.dot(x, x.transpose())"
   ]
  },
  {
   "cell_type": "code",
   "execution_count": 51,
   "metadata": {},
   "outputs": [
    {
     "data": {
      "text/plain": [
       "array([[[-0.03592555,  0.02544872, -0.06961475, -0.06309703,\n",
       "         -0.06252202],\n",
       "        [ 0.00786804,  0.03669995, -0.01432895,  0.06448459,\n",
       "          0.01634079],\n",
       "        [ 0.02242811, -0.06052826, -0.03381333,  0.015409  ,\n",
       "          0.03993514],\n",
       "        [ 0.0545066 , -0.06752646, -0.00190943, -0.02182666,\n",
       "         -0.02257175],\n",
       "        [ 0.02982339,  0.02601493,  0.0281469 ,  0.06092948,\n",
       "          0.05233438]],\n",
       "\n",
       "       [[ 0.02933844,  0.02538025,  0.06228914,  0.06553596,\n",
       "          0.00526186],\n",
       "        [-0.05702699, -0.05396048, -0.03316882,  0.00072701,\n",
       "         -0.02750293],\n",
       "        [-0.0220647 ,  0.03229611, -0.05007299, -0.00172585,\n",
       "          0.04535381],\n",
       "        [-0.04338929,  0.06644533,  0.0575491 ,  0.00613707,\n",
       "         -0.05498286],\n",
       "        [-0.01889331, -0.05184583, -0.05523539,  0.0671192 ,\n",
       "          0.01409542]],\n",
       "\n",
       "       [[ 0.04929065,  0.04462399,  0.02394763, -0.05812056,\n",
       "          0.04590692],\n",
       "        [-0.06211501, -0.06007318, -0.03704158,  0.06180675,\n",
       "          0.02784679],\n",
       "        [-0.00966154,  0.05127592, -0.06357694,  0.03913193,\n",
       "          0.03365177],\n",
       "        [-0.00048331,  0.01177278, -0.05005567, -0.04781011,\n",
       "         -0.03080222],\n",
       "        [-0.00951744,  0.00430661,  0.04454055,  0.01909287,\n",
       "         -0.0409294 ]],\n",
       "\n",
       "       [[ 0.04598732,  0.05118078, -0.01922909,  0.0092252 ,\n",
       "          0.0420135 ],\n",
       "        [ 0.02948875, -0.05818684, -0.06494132,  0.05263765,\n",
       "          0.03755303],\n",
       "        [-0.00348035,  0.05997521,  0.06911834,  0.01497971,\n",
       "         -0.02754778],\n",
       "        [-0.04122246,  0.01936759,  0.0209733 ,  0.0299354 ,\n",
       "         -0.02491101],\n",
       "        [-0.0636301 ,  0.04543918, -0.01977491, -0.04527015,\n",
       "         -0.00319786]],\n",
       "\n",
       "       [[-0.04945902,  0.01342518, -0.01886126, -0.01146639,\n",
       "         -0.01458076],\n",
       "        [ 0.02894483, -0.00287469, -0.04994491,  0.06831846,\n",
       "         -0.00468103],\n",
       "        [-0.00162333, -0.00307127, -0.01192818, -0.0445632 ,\n",
       "         -0.04168417],\n",
       "        [ 0.03609184,  0.06484326, -0.02807891,  0.05008151,\n",
       "         -0.04162909],\n",
       "        [-0.02209192,  0.02823079, -0.05622318, -0.02706724,\n",
       "         -0.05740474]]])"
      ]
     },
     "execution_count": 51,
     "metadata": {},
     "output_type": "execute_result"
    }
   ],
   "source": [
    "tr.weight.data()"
   ]
  }
 ],
 "metadata": {
  "kernelspec": {
   "display_name": "conda_mxnet_p36",
   "language": "python",
   "name": "conda_mxnet_p36"
  },
  "language_info": {
   "codemirror_mode": {
    "name": "ipython",
    "version": 3
   },
   "file_extension": ".py",
   "mimetype": "text/x-python",
   "name": "python",
   "nbconvert_exporter": "python",
   "pygments_lexer": "ipython3",
   "version": "3.6.10"
  }
 },
 "nbformat": 4,
 "nbformat_minor": 4
}
