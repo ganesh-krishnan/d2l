{
 "cells": [
  {
   "cell_type": "code",
   "execution_count": 13,
   "metadata": {},
   "outputs": [],
   "source": [
    "import mxnet\n",
    "from mxnet import np, npx, autograd\n",
    "from mxnet.gluon import Trainer, nn\n",
    "from mxnet.gluon.loss import SoftmaxCrossEntropyLoss\n",
    "import mxnet.initializer as initializer\n",
    "from PIL import Image\n",
    "from d2l import mxnet as d2l\n",
    "from pdb import set_trace\n",
    "npx.set_np()"
   ]
  },
  {
   "cell_type": "markdown",
   "metadata": {},
   "source": [
    "### Get Data"
   ]
  },
  {
   "cell_type": "code",
   "execution_count": 12,
   "metadata": {},
   "outputs": [],
   "source": [
    "batch_size = 256\n",
    "train_dl, test_dl = d2l.load_data_fashion_mnist(batch_size)"
   ]
  },
  {
   "cell_type": "code",
   "execution_count": 3,
   "metadata": {},
   "outputs": [
    {
     "data": {
      "image/png": "[encoded data removed]",
      "text/plain": [
       "<Figure size 216x108 with 2 Axes>"
      ]
     },
     "metadata": {
      "needs_background": "light"
     },
     "output_type": "display_data"
    }
   ],
   "source": [
    "imgs = next(iter(train_dl))\n",
    "d2l.show_images([img.squeeze() for img in list(imgs[0])], 1, 2);"
   ]
  },
  {
   "cell_type": "markdown",
   "metadata": {},
   "source": [
    "### Define Architecture"
   ]
  },
  {
   "cell_type": "code",
   "execution_count": 52,
   "metadata": {},
   "outputs": [],
   "source": [
    "activation = 'relu'\n",
    "net = nn.Sequential()\n",
    "net.add(nn.Conv2D(6, 5, 1, 2, activation=activation),\n",
    "         nn.AvgPool2D((2, 2), strides=(2, 2)),\n",
    "         nn.Conv2D(16, 5, 1, activation=activation),\n",
    "         nn.AvgPool2D((2, 2), strides=(2, 2)),\n",
    "         #nn.Flatten(),\n",
    "         nn.Dense(120, activation=activation),\n",
    "         nn.Dense(84, activation=activation),\n",
    "         nn.Dense(10))\n",
    "net.initialize(initializer.Xavier(), force_reinit=True)"
   ]
  },
  {
   "cell_type": "code",
   "execution_count": 35,
   "metadata": {},
   "outputs": [
    {
     "data": {
      "text/plain": [
       "Sequential(\n",
       "  (0): Conv2D(-1 -> 6, kernel_size=(5, 5), stride=(1, 1), padding=(2, 2), Activation(sigmoid))\n",
       "  (1): AvgPool2D(size=(2, 2), stride=(2, 2), padding=(0, 0), ceil_mode=False, global_pool=False, pool_type=avg, layout=NCHW)\n",
       "  (2): Conv2D(-1 -> 16, kernel_size=(5, 5), stride=(1, 1), Activation(sigmoid))\n",
       "  (3): AvgPool2D(size=(2, 2), stride=(2, 2), padding=(0, 0), ceil_mode=False, global_pool=False, pool_type=avg, layout=NCHW)\n",
       "  (4): Dense(-1 -> 120, Activation(sigmoid))\n",
       "  (5): Dense(-1 -> 84, Activation(sigmoid))\n",
       "  (6): Dense(-1 -> 10, linear)\n",
       ")"
      ]
     },
     "execution_count": 35,
     "metadata": {},
     "output_type": "execute_result"
    }
   ],
   "source": [
    "net"
   ]
  },
  {
   "cell_type": "code",
   "execution_count": 62,
   "metadata": {},
   "outputs": [
    {
     "name": "stdout",
     "output_type": "stream",
     "text": [
      "conv8 shape is (1, 6, 28, 28)\n",
      "pool8 shape is (1, 6, 14, 14)\n",
      "conv9 shape is (1, 16, 10, 10)\n",
      "pool9 shape is (1, 16, 5, 5)\n",
      "dense12 shape is (1, 120)\n",
      "dense13 shape is (1, 84)\n",
      "dense14 shape is (1, 10)\n"
     ]
    }
   ],
   "source": [
    "X1orig = X1 = np.random.uniform(size=(1, 1, 28, 28))\n",
    "for layer in net:\n",
    "    X1 = layer(X1)\n",
    "    print(f'{layer.name} shape is {X1.shape}')"
   ]
  },
  {
   "cell_type": "markdown",
   "metadata": {},
   "source": [
    "### Define Loss"
   ]
  },
  {
   "cell_type": "code",
   "execution_count": 4,
   "metadata": {},
   "outputs": [],
   "source": [
    "def loss_fn(yhat, y):\n",
    "    lfn = SoftmaxCrossEntropyLoss()\n",
    "    return lfn(yhat, y)"
   ]
  },
  {
   "cell_type": "markdown",
   "metadata": {},
   "source": [
    "### Train Network"
   ]
  },
  {
   "cell_type": "code",
   "execution_count": 48,
   "metadata": {},
   "outputs": [
    {
     "name": "stdout",
     "output_type": "stream",
     "text": [
      "Epoch: 0, Loss is: 0.5373509, test_accuracy: 0.7643\n",
      "Epoch: 1, Loss is: 0.43464458, test_accuracy: 0.7798\n",
      "Epoch: 2, Loss is: 0.6017233, test_accuracy: 0.7911\n",
      "Epoch: 3, Loss is: 0.5700694, test_accuracy: 0.7917\n",
      "Epoch: 4, Loss is: 0.68175524, test_accuracy: 0.7872\n"
     ]
    }
   ],
   "source": [
    "num_epochs = 5\n",
    "lr = 0.1\n",
    "optim = Trainer(net.collect_params(), 'adam', optimizer_params={'learning_rate': lr})\n",
    "for epoch in range(num_epochs):\n",
    "    for X, y in iter(train_dl):\n",
    "        with autograd.record():\n",
    "            yhat = net(X)\n",
    "            loss = loss_fn(yhat, y)\n",
    "        loss.backward()\n",
    "        optim.step(batch_size=X.shape[0])\n",
    "    test_accuracy = calc_accuracy(test_dl, net)\n",
    "    print(f'Epoch: {epoch}, Loss is: {loss.mean()}, test_accuracy: {test_accuracy}')"
   ]
  },
  {
   "cell_type": "markdown",
   "metadata": {},
   "source": [
    "### Calculate Accuracy"
   ]
  },
  {
   "cell_type": "code",
   "execution_count": 30,
   "metadata": {},
   "outputs": [],
   "source": [
    "def calc_accuracy(dl, net):\n",
    "    num_samples = 0\n",
    "    num_correct = 0\n",
    "    for X, y in iter(dl):\n",
    "        yhat = net(X)\n",
    "        classes = yhat.argmax(axis=1).astype('int32')\n",
    "        matches = (classes == y)\n",
    "        num_samples += X.shape[0]\n",
    "        num_correct += matches.sum().item()\n",
    "    return num_correct/num_samples"
   ]
  },
  {
   "cell_type": "code",
   "execution_count": 49,
   "metadata": {},
   "outputs": [
    {
     "data": {
      "text/plain": [
       "0.7872"
      ]
     },
     "execution_count": 49,
     "metadata": {},
     "output_type": "execute_result"
    }
   ],
   "source": [
    "calc_accuracy(test_dl, net)"
   ]
  },
  {
   "cell_type": "markdown",
   "metadata": {},
   "source": [
    "### Things I learnt\n",
    "- I had replaced the sigmoid with ReLU. ReLU's are prone to a problem called dead ReLU. This [link](https://datascience.stackexchange.com/questions/5706/what-is-the-dying-relu-problem-in-neural-networks) explains the problem in detail. Essentially, a large negative gradient could cause the input activations to always be negative. This would mean that the gradient for the ReLU will always be -ve and it will never recover\n",
    "- Reducing the LR helped for this case\n",
    "- The other thing was that Xavier initialization helped gain 3% points of accuracy as compared to Normal(0.01) initialization"
   ]
  }
 ],
 "metadata": {
  "kernelspec": {
   "display_name": "conda_mxnet_p36",
   "language": "python",
   "name": "conda_mxnet_p36"
  },
  "language_info": {
   "codemirror_mode": {
    "name": "ipython",
    "version": 3
   },
   "file_extension": ".py",
   "mimetype": "text/x-python",
   "name": "python",
   "nbconvert_exporter": "python",
   "pygments_lexer": "ipython3",
   "version": "3.6.10"
  }
 },
 "nbformat": 4,
 "nbformat_minor": 4
}
