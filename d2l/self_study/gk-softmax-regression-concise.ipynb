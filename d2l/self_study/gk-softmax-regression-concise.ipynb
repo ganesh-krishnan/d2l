{
 "cells": [
  {
   "cell_type": "code",
   "execution_count": 1,
   "metadata": {},
   "outputs": [],
   "source": [
    "from mxnet import np, npx, autograd\n",
    "from mxnet.gluon import Trainer\n",
    "from mxnet.gluon.loss import SoftmaxCrossEntropyLoss\n",
    "import mxnet.gluon.nn as nn\n",
    "from mxnet import init\n",
    "from d2l import mxnet as d2l\n",
    "from pdb import set_trace\n",
    "npx.set_np()"
   ]
  },
  {
   "cell_type": "markdown",
   "metadata": {},
   "source": [
    "## Load Data"
   ]
  },
  {
   "cell_type": "code",
   "execution_count": 2,
   "metadata": {},
   "outputs": [],
   "source": [
    "num_inputs = 28*28\n",
    "num_classes = 10\n",
    "batch_size = 256\n",
    "train_iter, test_iter = d2l.load_data_fashion_mnist(batch_size)"
   ]
  },
  {
   "cell_type": "code",
   "execution_count": 3,
   "metadata": {},
   "outputs": [],
   "source": [
    "def resized_iter(orig_iter, test=True):\n",
    "    num_iterations = 0\n",
    "    for X, y in orig_iter:\n",
    "        if num_iterations >= 5 and test:\n",
    "            break\n",
    "        X = np.reshape(X, (X.shape[0], -1))\n",
    "        yield X, y\n",
    "        num_iterations += 1"
   ]
  },
  {
   "cell_type": "markdown",
   "metadata": {},
   "source": [
    "## Define Model"
   ]
  },
  {
   "cell_type": "code",
   "execution_count": 4,
   "metadata": {},
   "outputs": [],
   "source": [
    "net = nn.Sequential()\n",
    "net.add(nn.Dense(num_classes))"
   ]
  },
  {
   "cell_type": "markdown",
   "metadata": {},
   "source": [
    "### Initialize Params"
   ]
  },
  {
   "cell_type": "code",
   "execution_count": 5,
   "metadata": {},
   "outputs": [],
   "source": [
    "net.initialize(init.Normal(sigma=0.01))"
   ]
  },
  {
   "cell_type": "markdown",
   "metadata": {},
   "source": [
    "## Define Loss"
   ]
  },
  {
   "cell_type": "code",
   "execution_count": 6,
   "metadata": {},
   "outputs": [],
   "source": [
    "def ce_loss(yhat, y):\n",
    "    loss = SoftmaxCrossEntropyLoss(axis=1, from_logits=False)\n",
    "    return loss(yhat, y[:, np.newaxis]).mean()"
   ]
  },
  {
   "cell_type": "markdown",
   "metadata": {},
   "source": [
    "## Define Optimization Loop"
   ]
  },
  {
   "cell_type": "code",
   "execution_count": 7,
   "metadata": {},
   "outputs": [
    {
     "name": "stdout",
     "output_type": "stream",
     "text": [
      "Epoch: 0, Loss: 0.864424467086792\n",
      "Epoch: 1, Loss: 0.8582344651222229\n",
      "Epoch: 2, Loss: 0.6851279735565186\n",
      "Epoch: 3, Loss: 0.6579068303108215\n",
      "Epoch: 4, Loss: 0.6317727565765381\n",
      "Epoch: 5, Loss: 0.5884999632835388\n",
      "Epoch: 6, Loss: 0.6406451463699341\n",
      "Epoch: 7, Loss: 0.41396665573120117\n",
      "Epoch: 8, Loss: 0.709810733795166\n",
      "Epoch: 9, Loss: 0.5485646724700928\n"
     ]
    }
   ],
   "source": [
    "lr = 0.1\n",
    "num_epochs = 10\n",
    "optim = Trainer(net.collect_params(), 'sgd', {'learning_rate': lr})\n",
    "for epoch in range(num_epochs):\n",
    "    for X, y in resized_iter(train_iter, False):\n",
    "        with autograd.record():\n",
    "            yhat = net(X)\n",
    "            loss = ce_loss(yhat, y)\n",
    "        loss.backward()\n",
    "        optim.step(batch_size=1)\n",
    "    print(f'Epoch: {epoch}, Loss: {loss.item()}')"
   ]
  },
  {
   "cell_type": "markdown",
   "metadata": {},
   "source": [
    "## Calculate accuracy"
   ]
  },
  {
   "cell_type": "code",
   "execution_count": 16,
   "metadata": {},
   "outputs": [],
   "source": [
    "correct = 0\n",
    "total = 0\n",
    "for X, y in resized_iter(test_iter, False):\n",
    "    preds = np.argmax(net(X), axis=1)\n",
    "    correct += (preds.astype('int32') == y).sum()\n",
    "    total += X.shape[0]"
   ]
  },
  {
   "cell_type": "code",
   "execution_count": 17,
   "metadata": {},
   "outputs": [
    {
     "data": {
      "text/plain": [
       "array(0.8074)"
      ]
     },
     "execution_count": 17,
     "metadata": {},
     "output_type": "execute_result"
    }
   ],
   "source": [
    "correct/total"
   ]
  }
 ],
 "metadata": {
  "kernelspec": {
   "display_name": "conda_mxnet_p36",
   "language": "python",
   "name": "conda_mxnet_p36"
  },
  "language_info": {
   "codemirror_mode": {
    "name": "ipython",
    "version": 3
   },
   "file_extension": ".py",
   "mimetype": "text/x-python",
   "name": "python",
   "nbconvert_exporter": "python",
   "pygments_lexer": "ipython3",
   "version": "3.6.10"
  }
 },
 "nbformat": 4,
 "nbformat_minor": 4
}
