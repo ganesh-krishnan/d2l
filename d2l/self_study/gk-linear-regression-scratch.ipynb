{
 "cells": [
  {
   "cell_type": "code",
   "execution_count": 1,
   "metadata": {},
   "outputs": [],
   "source": [
    "from mxnet import autograd, np, npx\n",
    "import random\n",
    "from pdb import set_trace\n",
    "npx.set_np()"
   ]
  },
  {
   "cell_type": "code",
   "execution_count": 2,
   "metadata": {},
   "outputs": [],
   "source": [
    "w = np.array([4, 5])\n",
    "def generate_synthetic_data(w, n=1000): \n",
    "    A = np.ones((n, 2))\n",
    "    A[:, 0] = np.random.normal(loc=100, scale=20, size=A.shape[0])\n",
    "    y = np.dot(A, w)\n",
    "    return A, w, y\n",
    "A, w, y = generate_synthetic_data(w)"
   ]
  },
  {
   "cell_type": "code",
   "execution_count": 3,
   "metadata": {},
   "outputs": [],
   "source": [
    "def data_iter(A, y, minibatch_size):\n",
    "    all_indices = list(range(len(A)))\n",
    "    random.shuffle(all_indices)\n",
    "    for start_idx in range(0, len(A), minibatch_size):\n",
    "        batch_indices = all_indices[start_idx:(start_idx + minibatch_size)]\n",
    "        yield A[batch_indices, ], y[batch_indices]"
   ]
  },
  {
   "cell_type": "code",
   "execution_count": 4,
   "metadata": {},
   "outputs": [],
   "source": [
    "def loss(y, y_hat):\n",
    "    return np.mean((y - y_hat)**2)"
   ]
  },
  {
   "cell_type": "code",
   "execution_count": 5,
   "metadata": {},
   "outputs": [],
   "source": [
    "def sgd(lr, w):\n",
    "    return w - lr*w.grad"
   ]
  },
  {
   "cell_type": "code",
   "execution_count": 6,
   "metadata": {},
   "outputs": [],
   "source": [
    "it = data_iter(A, y, 100)"
   ]
  },
  {
   "cell_type": "code",
   "execution_count": 8,
   "metadata": {},
   "outputs": [
    {
     "name": "stdout",
     "output_type": "stream",
     "text": [
      "Shape of A: (1000, 2), MSE: 81414.67\n",
      "Shape of A: (1000, 2), MSE: 56207.984\n",
      "Shape of A: (1000, 2), MSE: 33527.58\n",
      "Shape of A: (1000, 2), MSE: 18007.748\n",
      "Shape of A: (1000, 2), MSE: 12392.137\n",
      "Shape of A: (1000, 2), MSE: 7302.4595\n",
      "Shape of A: (1000, 2), MSE: 5373.3657\n",
      "Shape of A: (1000, 2), MSE: 3201.4988\n",
      "Shape of A: (1000, 2), MSE: 1949.7021\n",
      "Shape of A: (1000, 2), MSE: 1291.6147\n",
      "Shape of A: (1000, 2), MSE: 744.5796\n",
      "Shape of A: (1000, 2), MSE: 536.5576\n",
      "Shape of A: (1000, 2), MSE: 306.14294\n",
      "Shape of A: (1000, 2), MSE: 200.5701\n",
      "Shape of A: (1000, 2), MSE: 126.87382\n",
      "Shape of A: (1000, 2), MSE: 78.56522\n",
      "Shape of A: (1000, 2), MSE: 48.379562\n",
      "Shape of A: (1000, 2), MSE: 30.986164\n",
      "Shape of A: (1000, 2), MSE: 19.704575\n",
      "Shape of A: (1000, 2), MSE: 12.752866\n",
      "Shape of A: (1000, 2), MSE: 8.267451\n",
      "Shape of A: (1000, 2), MSE: 5.996624\n",
      "Shape of A: (1000, 2), MSE: 3.7431033\n",
      "Shape of A: (1000, 2), MSE: 2.8063092\n",
      "Shape of A: (1000, 2), MSE: 2.020087\n",
      "Shape of A: (1000, 2), MSE: 1.6116861\n",
      "Shape of A: (1000, 2), MSE: 1.2819016\n",
      "Shape of A: (1000, 2), MSE: 0.96013594\n",
      "Shape of A: (1000, 2), MSE: 0.9137514\n",
      "Shape of A: (1000, 2), MSE: 0.7758632\n",
      "Shape of A: (1000, 2), MSE: 1.2352525\n",
      "Shape of A: (1000, 2), MSE: 0.8483619\n",
      "Shape of A: (1000, 2), MSE: 0.8214465\n",
      "Shape of A: (1000, 2), MSE: 0.8027545\n",
      "Shape of A: (1000, 2), MSE: 0.78652865\n",
      "Shape of A: (1000, 2), MSE: 0.7397373\n",
      "Shape of A: (1000, 2), MSE: 1.0147364\n",
      "Shape of A: (1000, 2), MSE: 0.9176738\n",
      "Shape of A: (1000, 2), MSE: 0.66868514\n",
      "Shape of A: (1000, 2), MSE: 0.7455337\n",
      "Shape of A: (1000, 2), MSE: 0.8494969\n",
      "Shape of A: (1000, 2), MSE: 0.8782875\n",
      "Shape of A: (1000, 2), MSE: 0.96116495\n",
      "Shape of A: (1000, 2), MSE: 0.8911674\n",
      "Shape of A: (1000, 2), MSE: 0.68900037\n",
      "Shape of A: (1000, 2), MSE: 0.8632025\n",
      "Shape of A: (1000, 2), MSE: 0.64189047\n",
      "Shape of A: (1000, 2), MSE: 0.9666739\n",
      "Shape of A: (1000, 2), MSE: 0.67509466\n",
      "Shape of A: (1000, 2), MSE: 0.9449153\n"
     ]
    }
   ],
   "source": [
    "w_hat = np.random.normal(size=2)\n",
    "w_hat.attach_grad()\n",
    "num_epochs = 5\n",
    "lr = 0.00001\n",
    "for epoch in range(num_epochs):\n",
    "    for Ai, yi in data_iter(A, y, 100):\n",
    "        with autograd.record():\n",
    "            #set_trace()\n",
    "            yi_hat = np.dot(Ai, w_hat)\n",
    "            mse = loss(yi, yi_hat)\n",
    "            print(f'Shape of A: {A.shape}, MSE: {mse}')\n",
    "        mse.backward()\n",
    "        w_hat.detach()\n",
    "        w_hat = sgd(lr, w_hat)\n",
    "        w_hat.attach_grad()"
   ]
  },
  {
   "cell_type": "code",
   "execution_count": 15,
   "metadata": {},
   "outputs": [
    {
     "data": {
      "text/plain": [
       "array([4., 5.])"
      ]
     },
     "execution_count": 15,
     "metadata": {},
     "output_type": "execute_result"
    }
   ],
   "source": [
    "w"
   ]
  }
 ],
 "metadata": {
  "kernelspec": {
   "display_name": "conda_mxnet_p36",
   "language": "python",
   "name": "conda_mxnet_p36"
  },
  "language_info": {
   "codemirror_mode": {
    "name": "ipython",
    "version": 3
   },
   "file_extension": ".py",
   "mimetype": "text/x-python",
   "name": "python",
   "nbconvert_exporter": "python",
   "pygments_lexer": "ipython3",
   "version": "3.6.10"
  }
 },
 "nbformat": 4,
 "nbformat_minor": 4
}
