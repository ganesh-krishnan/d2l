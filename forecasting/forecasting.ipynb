{
 "cells": [
  {
   "cell_type": "code",
   "execution_count": 1,
   "metadata": {},
   "outputs": [],
   "source": [
    "%matplotlib inline"
   ]
  },
  {
   "cell_type": "code",
   "execution_count": 2,
   "metadata": {},
   "outputs": [],
   "source": [
    "import torch\n",
    "import torch.nn as nn\n",
    "import torch.optim as optim\n",
    "from torch.utils.data import Dataset, DataLoader\n",
    "import torch.nn.functional as F\n",
    "import pandas as pd\n",
    "import numpy as np\n",
    "import pdb\n",
    "import urllib.request\n",
    "from sklearn.impute import SimpleImputer\n",
    "from sklearn.preprocessing import StandardScaler\n",
    "from sklearn.pipeline import Pipeline\n",
    "from sklearn.compose import ColumnTransformer\n",
    "import pickle"
   ]
  },
  {
   "cell_type": "markdown",
   "metadata": {},
   "source": [
    "## Generate Data"
   ]
  },
  {
   "cell_type": "code",
   "execution_count": 3,
   "metadata": {},
   "outputs": [],
   "source": [
    "df = pd.DataFrame({'x1': range(10000)})\n",
    "df = df.assign(x2=df.x1 + 1,\n",
    "               x3=df.x1 + 2,\n",
    "               x4=df.x1 + 3,\n",
    "               y=df.x1 + 4)"
   ]
  },
  {
   "cell_type": "code",
   "execution_count": 68,
   "metadata": {},
   "outputs": [
    {
     "name": "stderr",
     "output_type": "stream",
     "text": [
      "/home/ec2-user/anaconda3/envs/pytorch_p36/lib/python3.6/site-packages/sklearn/utils/validation.py:595: DataConversionWarning: Data with input dtype int64 was converted to float64 by StandardScaler.\n",
      "  warnings.warn(msg, DataConversionWarning)\n",
      "/home/ec2-user/anaconda3/envs/pytorch_p36/lib/python3.6/site-packages/sklearn/utils/validation.py:595: DataConversionWarning: Data with input dtype int64 was converted to float64 by StandardScaler.\n",
      "  warnings.warn(msg, DataConversionWarning)\n"
     ]
    }
   ],
   "source": [
    "inp = np.array(df.drop('y', axis=1))\n",
    "transformer = StandardScaler().fit(inp)\n",
    "norm_in = transformer.transform(inp).transpose()\n",
    "out = np.array(df.transpose())[-1, :]\n",
    "x = torch.tensor(norm_in, dtype=torch.float).unsqueeze(-1)\n",
    "target = torch.tensor(out, dtype=torch.float)"
   ]
  },
  {
   "cell_type": "markdown",
   "metadata": {},
   "source": [
    "## Download Data"
   ]
  },
  {
   "cell_type": "code",
   "execution_count": 3,
   "metadata": {},
   "outputs": [],
   "source": [
    "HISTORY_SIZE = 8\n",
    "HORIZON = 1\n",
    "TRAIN_SIZE = 300000"
   ]
  },
  {
   "cell_type": "code",
   "execution_count": 4,
   "metadata": {},
   "outputs": [],
   "source": [
    "urllib.request.urlretrieve (\"https://storage.googleapis.com/tensorflow/tf-keras-datasets/jena_climate_2009_2016.csv.zip\", \n",
    "                            \"jena_climate_2009_2016.csv.zip\")\n",
    "df = pd.read_csv('jena_climate_2009_2016.csv.zip')\n",
    "df = df.rename({'T (degC)': 'T', 'Date Time': 'dt'}, axis=1)\n",
    "uni_df = df[['dt', 'T']]"
   ]
  },
  {
   "cell_type": "code",
   "execution_count": 5,
   "metadata": {},
   "outputs": [
    {
     "data": {
      "text/html": [
       "<div>\n",
       "<style scoped>\n",
       "    .dataframe tbody tr th:only-of-type {\n",
       "        vertical-align: middle;\n",
       "    }\n",
       "\n",
       "    .dataframe tbody tr th {\n",
       "        vertical-align: top;\n",
       "    }\n",
       "\n",
       "    .dataframe thead th {\n",
       "        text-align: right;\n",
       "    }\n",
       "</style>\n",
       "<table border=\"1\" class=\"dataframe\">\n",
       "  <thead>\n",
       "    <tr style=\"text-align: right;\">\n",
       "      <th></th>\n",
       "      <th>dt</th>\n",
       "      <th>T</th>\n",
       "    </tr>\n",
       "  </thead>\n",
       "  <tbody>\n",
       "    <tr>\n",
       "      <th>0</th>\n",
       "      <td>01.01.2009 00:10:00</td>\n",
       "      <td>-8.02</td>\n",
       "    </tr>\n",
       "    <tr>\n",
       "      <th>1</th>\n",
       "      <td>01.01.2009 00:20:00</td>\n",
       "      <td>-8.41</td>\n",
       "    </tr>\n",
       "    <tr>\n",
       "      <th>2</th>\n",
       "      <td>01.01.2009 00:30:00</td>\n",
       "      <td>-8.51</td>\n",
       "    </tr>\n",
       "    <tr>\n",
       "      <th>3</th>\n",
       "      <td>01.01.2009 00:40:00</td>\n",
       "      <td>-8.31</td>\n",
       "    </tr>\n",
       "    <tr>\n",
       "      <th>4</th>\n",
       "      <td>01.01.2009 00:50:00</td>\n",
       "      <td>-8.27</td>\n",
       "    </tr>\n",
       "  </tbody>\n",
       "</table>\n",
       "</div>"
      ],
      "text/plain": [
       "                    dt     T\n",
       "0  01.01.2009 00:10:00 -8.02\n",
       "1  01.01.2009 00:20:00 -8.41\n",
       "2  01.01.2009 00:30:00 -8.51\n",
       "3  01.01.2009 00:40:00 -8.31\n",
       "4  01.01.2009 00:50:00 -8.27"
      ]
     },
     "execution_count": 5,
     "metadata": {},
     "output_type": "execute_result"
    }
   ],
   "source": [
    "uni_df.head()"
   ]
  },
  {
   "cell_type": "code",
   "execution_count": 7,
   "metadata": {},
   "outputs": [
    {
     "data": {
      "text/plain": [
       "<matplotlib.axes._subplots.AxesSubplot at 0x7f36e3999a20>"
      ]
     },
     "execution_count": 7,
     "metadata": {},
     "output_type": "execute_result"
    },
    {
     "data": {
      "image/png": "[encoded data removed]",
      "text/plain": [
       "<Figure size 432x288 with 1 Axes>"
      ]
     },
     "metadata": {},
     "output_type": "display_data"
    }
   ],
   "source": [
    "uni_df.plot()"
   ]
  },
  {
   "cell_type": "code",
   "execution_count": 5,
   "metadata": {},
   "outputs": [],
   "source": [
    "train_df = df.loc[0:TRAIN_SIZE, [\"T\"]]\n",
    "test_df = df.loc[TRAIN_SIZE:, [\"T\"]]"
   ]
  },
  {
   "cell_type": "code",
   "execution_count": 6,
   "metadata": {},
   "outputs": [],
   "source": [
    "numeric_transformer = Pipeline(steps=[('imputer', SimpleImputer(strategy='median')),\n",
    "                                      ('scaler', StandardScaler())])\n",
    "preprocessor = ColumnTransformer(transformers=[('num', numeric_transformer, ['T'])])\n",
    "train_array = preprocessor.fit_transform(train_df)\n",
    "test_array = preprocessor.transform(test_df)"
   ]
  },
  {
   "cell_type": "code",
   "execution_count": 7,
   "metadata": {},
   "outputs": [],
   "source": [
    "class NpDataset(Dataset):\n",
    "    def __init__(self, x, window_size, target_size):\n",
    "        self.x = x\n",
    "        self.window_size = window_size\n",
    "        self.target_size = target_size\n",
    "        \n",
    "    def __len__(self): \n",
    "        return self.x.shape[0] - self.window_size - self.target_size\n",
    "    \n",
    "    def __getitem__(self, i): \n",
    "        return self.x[i:(i + self.window_size)], self.x[(i + 1):(i + 1 + self.target_size)]"
   ]
  },
  {
   "cell_type": "code",
   "execution_count": 28,
   "metadata": {},
   "outputs": [],
   "source": [
    "train_ds = NpDataset(torch.from_numpy(train_array).float(), 8, 1)\n",
    "test_ds = NpDataset(torch.from_numpy(test_array).float(), 8, 1)"
   ]
  },
  {
   "cell_type": "code",
   "execution_count": 29,
   "metadata": {},
   "outputs": [],
   "source": [
    "train_dl = DataLoader(train_ds, batch_size=10000)\n",
    "test_dl = DataLoader(test_ds, batch_size=10000)"
   ]
  },
  {
   "cell_type": "markdown",
   "metadata": {},
   "source": [
    "## Build Model"
   ]
  },
  {
   "cell_type": "code",
   "execution_count": 50,
   "metadata": {},
   "outputs": [],
   "source": [
    "class SRNN(nn.Module):\n",
    "  def __init__(self, seq_len=4, input_size=1, hidden_size=5, dropout_p=0.1):\n",
    "    super(SRNN, self).__init__()\n",
    "    self.rnn = nn.RNN(input_size, hidden_size, dropout=dropout_p)\n",
    "    self.fc1 = nn.Linear(seq_len*hidden_size, 1)\n",
    "    \n",
    "  def forward(self, x):\n",
    "    out, hidden = self.rnn(x.permute(1, 0, 2))\n",
    "    out = out.permute(1, 0, 2)\n",
    "    out = nn.ReLU()(out)\n",
    "    bs = out.shape[0]\n",
    "    out = out.contiguous().view(bs, -1)\n",
    "    out = self.fc1(out)\n",
    "    return out"
   ]
  },
  {
   "cell_type": "code",
   "execution_count": 11,
   "metadata": {},
   "outputs": [],
   "source": [
    "class SLSTM(nn.Module):\n",
    "  def __init__(self, input_size=1, hidden_size=5, dropout_p=0):\n",
    "    super(SLSTM, self).__init__()\n",
    "    self.rnn = nn.LSTM(input_size, hidden_size, dropout=dropout_p)\n",
    "    self.fc1 = nn.Linear(4*hidden_size, 1)\n",
    "    \n",
    "  def forward(self, x):\n",
    "    out, hidden = self.rnn(x)\n",
    "    out = out.permute(1, 0, 2)\n",
    "    bs = out.shape[0]\n",
    "    out = out.contiguous().view(bs, -1)\n",
    "    out = self.fc1(out)\n",
    "    return out"
   ]
  },
  {
   "cell_type": "code",
   "execution_count": 12,
   "metadata": {},
   "outputs": [],
   "source": [
    "def train_model(model, lr, dl, num_epochs):\n",
    "  optimizer = optim.Adam(model.parameters(), lr=lr)\n",
    "  crit = nn.MSELoss()\n",
    "\n",
    "  for epoch in range(num_epochs):\n",
    "    # training\n",
    "    ave_loss = 0\n",
    "    for i, data in enumerate(dl):\n",
    "        x, target = data\n",
    "        optimizer.zero_grad()\n",
    "        out = model(x)\n",
    "        loss = crit(out.squeeze(), target.squeeze())\n",
    "        ave_loss = ave_loss * 0.9 + loss.item() * 0.1\n",
    "        loss.backward()\n",
    "        optimizer.step()\n",
    "        if i % 10 == 0:\n",
    "            print(f'==>>> epoch: {epoch + 1}, batch_num: {i + 1}  train loss: {ave_loss}')"
   ]
  },
  {
   "cell_type": "code",
   "execution_count": 51,
   "metadata": {},
   "outputs": [
    {
     "name": "stderr",
     "output_type": "stream",
     "text": [
      "/home/ec2-user/anaconda3/envs/pytorch_p36/lib/python3.6/site-packages/torch/nn/modules/rnn.py:50: UserWarning: dropout option adds dropout after all but last recurrent layer, so non-zero dropout expects num_layers greater than 1, but got dropout=0.2 and num_layers=1\n",
      "  \"num_layers={}\".format(dropout, num_layers))\n"
     ]
    },
    {
     "name": "stdout",
     "output_type": "stream",
     "text": [
      "==>>> epoch: 1, batch_num: 1  train loss: 0.21726572513580322\n",
      "==>>> epoch: 1, batch_num: 11  train loss: 0.43358706287949444\n",
      "==>>> epoch: 1, batch_num: 21  train loss: 0.6462800645391304\n",
      "==>>> epoch: 2, batch_num: 1  train loss: 0.014236715435981751\n",
      "==>>> epoch: 2, batch_num: 11  train loss: 0.09026115492088702\n",
      "==>>> epoch: 2, batch_num: 21  train loss: 0.0664489098179768\n",
      "==>>> epoch: 3, batch_num: 1  train loss: 0.029284608364105225\n",
      "==>>> epoch: 3, batch_num: 11  train loss: 0.06964700807876362\n",
      "==>>> epoch: 3, batch_num: 21  train loss: 0.1029219081420724\n",
      "==>>> epoch: 4, batch_num: 1  train loss: 0.0295994371175766\n",
      "==>>> epoch: 4, batch_num: 11  train loss: 0.03380828545866125\n",
      "==>>> epoch: 4, batch_num: 21  train loss: 0.03158790858911916\n",
      "==>>> epoch: 5, batch_num: 1  train loss: 0.004706555604934693\n",
      "==>>> epoch: 5, batch_num: 11  train loss: 0.08008744380424185\n",
      "==>>> epoch: 5, batch_num: 21  train loss: 0.13387799270144907\n"
     ]
    }
   ],
   "source": [
    "lr = 0.1\n",
    "model = SRNN(seq_len=8, dropout_p=0.2)\n",
    "train_model(model, lr, train_dl, 5)"
   ]
  },
  {
   "cell_type": "code",
   "execution_count": 55,
   "metadata": {},
   "outputs": [
    {
     "name": "stdout",
     "output_type": "stream",
     "text": [
      "==>>> epoch: 1, batch_num: 1  train loss: 0.0181627631187439\n",
      "==>>> epoch: 1, batch_num: 11  train loss: 0.03074492285084834\n",
      "==>>> epoch: 1, batch_num: 21  train loss: 0.021368918138928248\n",
      "==>>> epoch: 2, batch_num: 1  train loss: 0.0006683927029371262\n",
      "==>>> epoch: 2, batch_num: 11  train loss: 0.0031895982400643565\n",
      "==>>> epoch: 2, batch_num: 21  train loss: 0.0024149223119691652\n",
      "==>>> epoch: 3, batch_num: 1  train loss: 0.00031672948971390725\n",
      "==>>> epoch: 3, batch_num: 11  train loss: 0.0008103800705698435\n",
      "==>>> epoch: 3, batch_num: 21  train loss: 0.0010270392477299125\n",
      "==>>> epoch: 4, batch_num: 1  train loss: 0.00027298140339553355\n",
      "==>>> epoch: 4, batch_num: 11  train loss: 0.0006764228696808602\n",
      "==>>> epoch: 4, batch_num: 21  train loss: 0.000890548889307958\n",
      "==>>> epoch: 5, batch_num: 1  train loss: 0.00024845257867127656\n",
      "==>>> epoch: 5, batch_num: 11  train loss: 0.0006287547699792795\n",
      "==>>> epoch: 5, batch_num: 21  train loss: 0.0008267667522917696\n"
     ]
    }
   ],
   "source": [
    "lr = 0.01\n",
    "train_model(model, lr, train_dl, 5)"
   ]
  },
  {
   "cell_type": "code",
   "execution_count": 56,
   "metadata": {},
   "outputs": [],
   "source": [
    "y_preds = []\n",
    "naive_y_preds = []\n",
    "y_true = []\n",
    "with torch.no_grad():\n",
    "    for i, data in enumerate(test_dl):\n",
    "        x, y = data\n",
    "        y_pred = model(x)\n",
    "        y_preds.append(y_pred)\n",
    "        naive_y_preds.append(x[:, -1, :])\n",
    "        y_true.append(y)"
   ]
  },
  {
   "cell_type": "code",
   "execution_count": 57,
   "metadata": {},
   "outputs": [],
   "source": [
    "all_y_preds = torch.cat(y_preds).squeeze()\n",
    "all_naive_y_preds = torch.cat(naive_y_preds).squeeze()\n",
    "all_y_true = torch.cat(y_true).squeeze()"
   ]
  },
  {
   "cell_type": "code",
   "execution_count": 58,
   "metadata": {},
   "outputs": [
    {
     "data": {
      "text/plain": [
       "(tensor(0.0190), tensor(0.0008))"
      ]
     },
     "execution_count": 58,
     "metadata": {},
     "output_type": "execute_result"
    }
   ],
   "source": [
    "torch.abs(all_y_preds - all_y_true).mean(), F.mse_loss(all_y_preds, all_y_true)"
   ]
  },
  {
   "cell_type": "code",
   "execution_count": 45,
   "metadata": {},
   "outputs": [
    {
     "data": {
      "text/plain": [
       "(tensor(0.0810), tensor(0.0133))"
      ]
     },
     "execution_count": 45,
     "metadata": {},
     "output_type": "execute_result"
    }
   ],
   "source": [
    "torch.abs(all_naive_y_preds - all_y_true).mean(), F.mse_loss(all_naive_y_preds, all_y_true)"
   ]
  },
  {
   "cell_type": "markdown",
   "metadata": {},
   "source": [
    "## Archive"
   ]
  },
  {
   "cell_type": "code",
   "execution_count": 171,
   "metadata": {},
   "outputs": [],
   "source": [
    "def univariate_data(arr, history_size, target_size):\n",
    "    data = []\n",
    "    labels = []\n",
    "\n",
    "    start_index = history_size\n",
    "    end_index = arr.shape[0] - target_size\n",
    "\n",
    "    for i in range(start_index, end_index):\n",
    "        indices = range(i - history_size, i)\n",
    "        # Reshape data from (history_size,) to (history_size, 1)\n",
    "        data.append(np.reshape(arr[indices, :], (history_size, 1)))\n",
    "        labels.append(arr[i+target_size, :])\n",
    "    data = np.moveaxis(np.array(data), (0, 1), (1, 0))\n",
    "    return np.array(data), np.array(labels)\n",
    "\n",
    "def prepare_data(array, history_size, target_size):\n",
    "    x, target = univariate_data(array, history_size, target_size)\n",
    "    x = torch.tensor(x, dtype=torch.float)\n",
    "    target = torch.tensor(target, dtype=torch.float)\n",
    "    return x, target"
   ]
  },
  {
   "cell_type": "code",
   "execution_count": 187,
   "metadata": {},
   "outputs": [],
   "source": [
    "def load_or_generate_torch_data(arr, is_train=True):\n",
    "    prefix = 'train' if is_train else 'test'\n",
    "    try:\n",
    "        with open(f'{prefix}_data_{HISTORY_SIZE}_{HORIZON}.pkl', 'rb') as f:\n",
    "            data = pickle.load(f)\n",
    "        x, target = data\n",
    "    except:\n",
    "        x, target = prepare_data(arr, HISTORY_SIZE, HORIZON)\n",
    "        data = (x, target)\n",
    "        with open(f'{prefix}_data_{HISTORY_SIZE}_{HORIZON}.pkl', 'wb') as f:\n",
    "            pickle.dump(train_data, f)\n",
    "    return x, target"
   ]
  },
  {
   "cell_type": "code",
   "execution_count": 180,
   "metadata": {},
   "outputs": [],
   "source": [
    "train_data = load_or_generate_torch_data(train_array, True)\n",
    "train_x, train_target = train_data"
   ]
  },
  {
   "cell_type": "code",
   "execution_count": 188,
   "metadata": {},
   "outputs": [],
   "source": [
    "test_data = load_or_generate_torch_data(test_array, False)\n",
    "test_x, test_target = test_data"
   ]
  },
  {
   "cell_type": "code",
   "execution_count": 61,
   "metadata": {},
   "outputs": [],
   "source": [
    "def train_model(model, lr, x, target, num_epochs):\n",
    "  optimizer = optim.Adam(model.parameters(), lr=lr)\n",
    "  crit = nn.MSELoss()\n",
    "\n",
    "  for epoch in range(num_epochs):\n",
    "      # training\n",
    "      ave_loss = 0\n",
    "      optimizer.zero_grad()\n",
    "      out = model(x)\n",
    "      loss = crit(out.squeeze(), target)\n",
    "      ave_loss = ave_loss * 0.9 + loss.item() * 0.1\n",
    "      loss.backward()\n",
    "      optimizer.step()\n",
    "      if epoch % 100 == 0:\n",
    "        print(f'==>>> epoch: {epoch},  train loss: {ave_loss}')"
   ]
  }
 ],
 "metadata": {
  "kernelspec": {
   "display_name": "conda_pytorch_p36",
   "language": "python",
   "name": "conda_pytorch_p36"
  },
  "language_info": {
   "codemirror_mode": {
    "name": "ipython",
    "version": 3
   },
   "file_extension": ".py",
   "mimetype": "text/x-python",
   "name": "python",
   "nbconvert_exporter": "python",
   "pygments_lexer": "ipython3",
   "version": "3.6.5"
  }
 },
 "nbformat": 4,
 "nbformat_minor": 4
}
